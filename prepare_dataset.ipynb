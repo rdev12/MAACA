{
 "cells": [
  {
   "cell_type": "markdown",
   "metadata": {},
   "source": [
    "# Extracting Transcript"
   ]
  },
  {
   "cell_type": "code",
   "execution_count": null,
   "metadata": {},
   "outputs": [],
   "source": [
    "import pandas as pd\n",
    "dataset = pd.read_csv(\"complaint3.csv\")\n",
    "dataset = dataset.loc[dataset[\"Video Link\"].notnull()]"
   ]
  },
  {
   "cell_type": "code",
   "execution_count": null,
   "metadata": {},
   "outputs": [],
   "source": [
    "from preprocess_data import GenerateTranscript\n",
    "gtr = GenerateTranscript()\n",
    "transcripts = gtr.process_videos()"
   ]
  },
  {
   "cell_type": "code",
   "execution_count": null,
   "metadata": {},
   "outputs": [],
   "source": [
    "transcripts.items()"
   ]
  },
  {
   "cell_type": "code",
   "execution_count": null,
   "metadata": {},
   "outputs": [],
   "source": [
    "for idx, transcript in transcripts.items():\n",
    "    with open(f\"transcripts/temp_{idx}.srt\", \"w\") as text_file:\n",
    "        text_file.write(transcript)"
   ]
  },
  {
   "cell_type": "code",
   "execution_count": null,
   "metadata": {},
   "outputs": [],
   "source": [
    "df = pd.read_csv(\"./new_data.csv\", index_col=\"video index\")"
   ]
  },
  {
   "cell_type": "code",
   "execution_count": null,
   "metadata": {},
   "outputs": [],
   "source": [
    "df_input = df[\"video link\"]\n",
    "input_dict = df_input.to_dict()"
   ]
  },
  {
   "cell_type": "code",
   "execution_count": null,
   "metadata": {},
   "outputs": [],
   "source": [
    "from preprocess_data import GenerateTranscript"
   ]
  },
  {
   "cell_type": "code",
   "execution_count": null,
   "metadata": {},
   "outputs": [],
   "source": [
    "df_entity = {\"video index\":[], \"product\":[], \"product name\":[], \"video title\":[], \"video link\":[], \"time stamp\":[],\t\"aspect\":[], \"complaint label\":[], \"transcript\":[]}"
   ]
  },
  {
   "cell_type": "code",
   "execution_count": null,
   "metadata": {},
   "outputs": [],
   "source": [
    "for index, row in df.iterrows():\n",
    "    for i in range(1, 7):\n",
    "        if pd.isna(row[f\"aspect {i}\"]):\n",
    "            continue\n",
    "\n",
    "        for key in df_entity.keys():\n",
    "            if key in ['time stamp', 'aspect', 'complaint label', 'transcript']:\n",
    "                df_entity[key].append(row[f\"{key} {i}\"])\n",
    "            else:\n",
    "                df_entity[key].append(row[key])"
   ]
  },
  {
   "cell_type": "code",
   "execution_count": null,
   "metadata": {},
   "outputs": [],
   "source": [
    "df_entity = pd.DataFrame(df_entity)"
   ]
  },
  {
   "cell_type": "code",
   "execution_count": null,
   "metadata": {},
   "outputs": [],
   "source": [
    "df_entity.isna().sum()"
   ]
  },
  {
   "cell_type": "code",
   "execution_count": null,
   "metadata": {},
   "outputs": [],
   "source": [
    "df_entity.dropna(inplace=True)"
   ]
  },
  {
   "cell_type": "code",
   "execution_count": null,
   "metadata": {},
   "outputs": [],
   "source": [
    "df_entity.size"
   ]
  },
  {
   "cell_type": "code",
   "execution_count": null,
   "metadata": {},
   "outputs": [],
   "source": [
    "df_entity.isna().sum()"
   ]
  },
  {
   "cell_type": "code",
   "execution_count": null,
   "metadata": {},
   "outputs": [],
   "source": [
    "df_entity.index.name = \"index\""
   ]
  },
  {
   "cell_type": "code",
   "execution_count": null,
   "metadata": {},
   "outputs": [],
   "source": [
    "df_entity.to_csv(\"./data_flattened.csv\")"
   ]
  },
  {
   "cell_type": "code",
   "execution_count": null,
   "metadata": {},
   "outputs": [],
   "source": [
    "df_entity[\"aspect\"] = df_entity[\"aspect\"].apply(lambda row: row.lower().strip())"
   ]
  },
  {
   "cell_type": "code",
   "execution_count": null,
   "metadata": {},
   "outputs": [],
   "source": [
    "df_entity[\"aspect\"] = df_entity[\"aspect\"].apply(lambda row: \"speaker\" if row == \"speakers\" else row)"
   ]
  },
  {
   "cell_type": "code",
   "execution_count": null,
   "metadata": {},
   "outputs": [],
   "source": [
    "df_entity[\"aspect\"] = df_entity[\"aspect\"].apply(lambda row: \"battery\" if row == \"battery life\" else row)"
   ]
  },
  {
   "cell_type": "code",
   "execution_count": null,
   "metadata": {},
   "outputs": [],
   "source": [
    "df_entity.aspect.unique()"
   ]
  },
  {
   "cell_type": "code",
   "execution_count": null,
   "metadata": {},
   "outputs": [],
   "source": [
    "from sklearn.model_selection import train_test_split"
   ]
  },
  {
   "cell_type": "code",
   "execution_count": null,
   "metadata": {},
   "outputs": [],
   "source": [
    "df_entity_train, df_entity_val = train_test_split(df_entity, test_size=0.25)"
   ]
  },
  {
   "cell_type": "code",
   "execution_count": null,
   "metadata": {},
   "outputs": [],
   "source": [
    "df_entity_train.size, df_entity_val.size"
   ]
  },
  {
   "cell_type": "code",
   "execution_count": null,
   "metadata": {},
   "outputs": [],
   "source": [
    "df_entity_train.to_csv(\"./data_train.csv\")\n",
    "df_entity_val.to_csv(\"./data_val.csv\")"
   ]
  },
  {
   "cell_type": "code",
   "execution_count": null,
   "metadata": {},
   "outputs": [],
   "source": [
    "from keyframes import GenerateKeyframes"
   ]
  },
  {
   "cell_type": "code",
   "execution_count": null,
   "metadata": {},
   "outputs": [],
   "source": [
    "gfk = GenerateKeyframes()"
   ]
  },
  {
   "cell_type": "code",
   "execution_count": null,
   "metadata": {},
   "outputs": [],
   "source": [
    "def get_time_range_in_sec(time):\n",
    "  # get rid of unintentional spaces\n",
    "  time = time.replace(\" \", \"\")\n",
    "\n",
    "  # get starting and ending times\n",
    "  start, end = time.split(\"-\")\n",
    "\n",
    "  # convert to seconds\n",
    "  start = int(start.split(\":\")[0])*60 + int(start.split(\":\")[1])\n",
    "  end = int(end.split(\":\")[0])*60 + int(end.split(\":\")[1])\n",
    "\n",
    "  return [start, end]"
   ]
  },
  {
   "cell_type": "code",
   "execution_count": null,
   "metadata": {},
   "outputs": [],
   "source": [
    "def get_timestamps(data):\n",
    "  # dictionary of video index as key and array of timestamps (in seconds) as value\n",
    "  timestamps = {}\n",
    "\n",
    "  for key, value in data.items():\n",
    "    if \"time stamp\" in key.lower():\n",
    "      for idx, tsp in value.items():\n",
    "        if isinstance(tsp, str):\n",
    "          tsp = get_time_range_in_sec(tsp)\n",
    "          if idx not in timestamps:\n",
    "            timestamps[idx] = [tsp]\n",
    "          else:\n",
    "            timestamps[idx].append(tsp)\n",
    "\n",
    "  return timestamps"
   ]
  },
  {
   "cell_type": "code",
   "execution_count": null,
   "metadata": {},
   "outputs": [],
   "source": [
    "timestamps = get_timestamps(df)"
   ]
  },
  {
   "cell_type": "code",
   "execution_count": null,
   "metadata": {},
   "outputs": [],
   "source": [
    "def progress_function(self, stream, chunk, bytes_remaining):\n",
    "    current = ((self.filesize - bytes_remaining)/self.filesize)\n",
    "    percent = ('{0:.1f}').format(current*100)\n",
    "    progress = int(50*current)\n",
    "    status = '█' * progress + '-' * (50 - progress)\n",
    "    sys.stdout.write(' ↳ |{bar}| {percent}%\\r'.format(bar=status, percent=percent))\n",
    "    sys.stdout.flush()"
   ]
  },
  {
   "cell_type": "code",
   "execution_count": null,
   "metadata": {},
   "outputs": [],
   "source": [
    "from pytube import YouTube\n",
    "from pytube.cli import on_progress \n",
    "import os"
   ]
  },
  {
   "cell_type": "code",
   "execution_count": null,
   "metadata": {},
   "outputs": [],
   "source": [
    "for index, row in df.iterrows():\n",
    "    link = row[\"video link\"]\n",
    "    file_path = f\"downloads/tmp_{index}.mp4\"\n",
    "    yt = YouTube(link, on_progress_callback=on_progress)\n",
    "    \n",
    "    if not os.path.exists(f\"downloads/tmp_{index}.mp4\"):\n",
    "        try:\n",
    "            video = yt.streams.filter(res=\"360p\")[0]\n",
    "            path = video.download(filename=f\"downloads/tmp_{index}.mp4\")\n",
    "        except:\n",
    "            print(f\"Error occurred while downloading video {index}. Please try for this video again later. Skipping...\")\n",
    "            continue\n",
    "    else:\n",
    "        print(f\"Video {idx} exists. Skipping download...\")\n",
    "        path = f\"downloads/tmp_{index}.mp4\"\n",
    "    \n",
    "    # for aspect_id in range(1, 7):\n",
    "    #     if pd.isna(row[\"aspect {}\".format(aspect_id)]):\n",
    "    #         continue\n",
    "        # print(aspect_id)\n",
    "    tsmp = timestamps[index]\n",
    "        # print(tsmp)\n",
    "    gfk.generateKeyframes(file_path, tsmp, index)  \n",
    "    break"
   ]
  },
  {
   "cell_type": "code",
   "execution_count": 1,
   "metadata": {},
   "outputs": [
    {
     "data": {
      "text/html": [
       "<div>\n",
       "<style scoped>\n",
       "    .dataframe tbody tr th:only-of-type {\n",
       "        vertical-align: middle;\n",
       "    }\n",
       "\n",
       "    .dataframe tbody tr th {\n",
       "        vertical-align: top;\n",
       "    }\n",
       "\n",
       "    .dataframe thead th {\n",
       "        text-align: right;\n",
       "    }\n",
       "</style>\n",
       "<table border=\"1\" class=\"dataframe\">\n",
       "  <thead>\n",
       "    <tr style=\"text-align: right;\">\n",
       "      <th></th>\n",
       "      <th>video index</th>\n",
       "      <th>product</th>\n",
       "      <th>product name</th>\n",
       "      <th>video title</th>\n",
       "      <th>video link</th>\n",
       "      <th>time stamp</th>\n",
       "      <th>aspect</th>\n",
       "      <th>complaint label</th>\n",
       "      <th>transcript</th>\n",
       "    </tr>\n",
       "    <tr>\n",
       "      <th>index</th>\n",
       "      <th></th>\n",
       "      <th></th>\n",
       "      <th></th>\n",
       "      <th></th>\n",
       "      <th></th>\n",
       "      <th></th>\n",
       "      <th></th>\n",
       "      <th></th>\n",
       "      <th></th>\n",
       "    </tr>\n",
       "  </thead>\n",
       "  <tbody>\n",
       "    <tr>\n",
       "      <th>0</th>\n",
       "      <td>98</td>\n",
       "      <td>Phone</td>\n",
       "      <td>Samsung Galaxy S23 Ultra</td>\n",
       "      <td>The Samsung S23 Ultra is secretly INCREDIBLE</td>\n",
       "      <td>https://www.youtube.com/watch?v=zz70o2Ia4X0&amp;t=1</td>\n",
       "      <td>0:28-0:38</td>\n",
       "      <td>Camera</td>\n",
       "      <td>0.0</td>\n",
       "      <td>Plus, how have they still not managed to trim...</td>\n",
       "    </tr>\n",
       "    <tr>\n",
       "      <th>1</th>\n",
       "      <td>98</td>\n",
       "      <td>Phone</td>\n",
       "      <td>Samsung Galaxy S23 Ultra</td>\n",
       "      <td>The Samsung S23 Ultra is secretly INCREDIBLE</td>\n",
       "      <td>https://www.youtube.com/watch?v=zz70o2Ia4X0&amp;t=1</td>\n",
       "      <td>1:01-1:13</td>\n",
       "      <td>Camera</td>\n",
       "      <td>1.0</td>\n",
       "      <td>the quality of the front camera has gone up, ...</td>\n",
       "    </tr>\n",
       "    <tr>\n",
       "      <th>2</th>\n",
       "      <td>98</td>\n",
       "      <td>Phone</td>\n",
       "      <td>Samsung Galaxy S23 Ultra</td>\n",
       "      <td>The Samsung S23 Ultra is secretly INCREDIBLE</td>\n",
       "      <td>https://www.youtube.com/watch?v=zz70o2Ia4X0&amp;t=1</td>\n",
       "      <td>1:46-1:54</td>\n",
       "      <td>OS</td>\n",
       "      <td>1.0</td>\n",
       "      <td>this thing can read and write files almost tw...</td>\n",
       "    </tr>\n",
       "    <tr>\n",
       "      <th>3</th>\n",
       "      <td>98</td>\n",
       "      <td>Phone</td>\n",
       "      <td>Samsung Galaxy S23 Ultra</td>\n",
       "      <td>The Samsung S23 Ultra is secretly INCREDIBLE</td>\n",
       "      <td>https://www.youtube.com/watch?v=zz70o2Ia4X0&amp;t=1</td>\n",
       "      <td>5:09-5:24</td>\n",
       "      <td>Design</td>\n",
       "      <td>1.0</td>\n",
       "      <td>They've retained some of the curve on the scr...</td>\n",
       "    </tr>\n",
       "    <tr>\n",
       "      <th>4</th>\n",
       "      <td>99</td>\n",
       "      <td>Phone</td>\n",
       "      <td>iQOO 11</td>\n",
       "      <td>iQOO 11 Review with Pros &amp; Cons | Specs on Paper</td>\n",
       "      <td>https://www.youtube.com/watch?v=2hUHgf8Hoy0</td>\n",
       "      <td>0:55-1:17</td>\n",
       "      <td>Design</td>\n",
       "      <td>1.0</td>\n",
       "      <td>is not rosy so again watch the whole video I'...</td>\n",
       "    </tr>\n",
       "  </tbody>\n",
       "</table>\n",
       "</div>"
      ],
      "text/plain": [
       "       video index product              product name  \\\n",
       "index                                                  \n",
       "0               98   Phone  Samsung Galaxy S23 Ultra   \n",
       "1               98   Phone  Samsung Galaxy S23 Ultra   \n",
       "2               98   Phone  Samsung Galaxy S23 Ultra   \n",
       "3               98   Phone  Samsung Galaxy S23 Ultra   \n",
       "4               99   Phone                   iQOO 11   \n",
       "\n",
       "                                            video title  \\\n",
       "index                                                     \n",
       "0          The Samsung S23 Ultra is secretly INCREDIBLE   \n",
       "1          The Samsung S23 Ultra is secretly INCREDIBLE   \n",
       "2          The Samsung S23 Ultra is secretly INCREDIBLE   \n",
       "3          The Samsung S23 Ultra is secretly INCREDIBLE   \n",
       "4      iQOO 11 Review with Pros & Cons | Specs on Paper   \n",
       "\n",
       "                                            video link time stamp  aspect  \\\n",
       "index                                                                       \n",
       "0      https://www.youtube.com/watch?v=zz70o2Ia4X0&t=1  0:28-0:38  Camera   \n",
       "1      https://www.youtube.com/watch?v=zz70o2Ia4X0&t=1  1:01-1:13  Camera   \n",
       "2      https://www.youtube.com/watch?v=zz70o2Ia4X0&t=1  1:46-1:54      OS   \n",
       "3      https://www.youtube.com/watch?v=zz70o2Ia4X0&t=1  5:09-5:24  Design   \n",
       "4          https://www.youtube.com/watch?v=2hUHgf8Hoy0  0:55-1:17  Design   \n",
       "\n",
       "       complaint label                                         transcript  \n",
       "index                                                                      \n",
       "0                  0.0   Plus, how have they still not managed to trim...  \n",
       "1                  1.0   the quality of the front camera has gone up, ...  \n",
       "2                  1.0   this thing can read and write files almost tw...  \n",
       "3                  1.0   They've retained some of the curve on the scr...  \n",
       "4                  1.0   is not rosy so again watch the whole video I'...  "
      ]
     },
     "execution_count": 1,
     "metadata": {},
     "output_type": "execute_result"
    }
   ],
   "source": [
    "import pandas as pd\n",
    "df = pd.read_csv(\"./data_flattened.csv\", index_col=\"index\")\n",
    "df.head()"
   ]
  },
  {
   "cell_type": "code",
   "execution_count": 2,
   "metadata": {},
   "outputs": [],
   "source": [
    "def get_time_range_in_sec(time):\n",
    "    # get rid of unintentional spaces\n",
    "    time = time.replace(\" \", \"\")\n",
    "\n",
    "    # get starting and ending times\n",
    "    start, end = time.split(\"-\")\n",
    "\n",
    "    # convert to seconds\n",
    "    start = int(start.split(\":\")[0])*60 + int(start.split(\":\")[1])\n",
    "    end = int(end.split(\":\")[0])*60 + int(end.split(\":\")[1])\n",
    "\n",
    "    return [start, end]"
   ]
  },
  {
   "cell_type": "code",
   "execution_count": null,
   "metadata": {},
   "outputs": [],
   "source": [
    "import os\n",
    "import subprocess\n",
    "\n",
    "input_folder = \"./downloads/\"\n",
    "output_folder = \"audio\"\n",
    "\n",
    "for index, row in df.iterrows():\n",
    "\n",
    "    video_index = row[\"video index\"]\n",
    "    mp4_path = os.path.join(input_folder, f\"tmp_{video_index}.mp4\")\n",
    "    timestamp = get_time_range_in_sec(row[\"time stamp\"])\n",
    "\n",
    "        # Remove the extension and add \".mp3\" to get the desired output filename\n",
    "    audio_filename = f\"audio_{index}.mp3\"\n",
    "\n",
    "    # Build the full output path\n",
    "    output_path = os.path.join(output_folder, audio_filename)\n",
    "\n",
    "    command = [\n",
    "        \"ffmpeg\",\n",
    "        \"-i\", mp4_path,\n",
    "        \"-ss\", str(timestamp[0]),\n",
    "        \"-to\", str(timestamp[1]),\n",
    "        \"-vn\", \"-acodec\", \"libmp3lame\",\n",
    "        output_path\n",
    "    ]\n",
    "    # Run the command using subprocess\n",
    "    subprocess.run(command)\n",
    "    "
   ]
  },
  {
   "metadata": {},
   "cell_type": "code",
   "outputs": [],
   "execution_count": null,
   "source": ""
  },
  {
   "metadata": {
    "ExecuteTime": {
     "end_time": "2024-08-27T04:10:24.429114Z",
     "start_time": "2024-08-27T04:10:22.567825Z"
    }
   },
   "cell_type": "code",
   "source": [
    "import pandas as pd\n",
    "df = pd.concat([pd.read_csv(\"data/data_train.csv\"), pd.read_csv(\"data/data_val.csv\")])"
   ],
   "outputs": [],
   "execution_count": 1
  },
  {
   "metadata": {
    "ExecuteTime": {
     "end_time": "2024-08-27T04:14:18.353590Z",
     "start_time": "2024-08-27T04:14:18.314010Z"
    }
   },
   "cell_type": "code",
   "source": [
    "# check if df[\"video index\"] is ascending and continuous\n",
    "import numpy as np\n",
    "np.sort(df[\"video index\"].tolist())"
   ],
   "outputs": [
    {
     "ename": "AttributeError",
     "evalue": "'numpy.ndarray' object has no attribute 'unique'",
     "output_type": "error",
     "traceback": [
      "\u001B[0;31m---------------------------------------------------------------------------\u001B[0m",
      "\u001B[0;31mAttributeError\u001B[0m                            Traceback (most recent call last)",
      "Cell \u001B[0;32mIn[18], line 3\u001B[0m\n\u001B[1;32m      1\u001B[0m \u001B[38;5;66;03m# check if df[\"video index\"] is ascending and continuous\u001B[39;00m\n\u001B[1;32m      2\u001B[0m \u001B[38;5;28;01mimport\u001B[39;00m \u001B[38;5;21;01mnumpy\u001B[39;00m \u001B[38;5;28;01mas\u001B[39;00m \u001B[38;5;21;01mnp\u001B[39;00m\n\u001B[0;32m----> 3\u001B[0m \u001B[43mnp\u001B[49m\u001B[38;5;241;43m.\u001B[39;49m\u001B[43msort\u001B[49m\u001B[43m(\u001B[49m\u001B[43mdf\u001B[49m\u001B[43m[\u001B[49m\u001B[38;5;124;43m\"\u001B[39;49m\u001B[38;5;124;43mvideo index\u001B[39;49m\u001B[38;5;124;43m\"\u001B[39;49m\u001B[43m]\u001B[49m\u001B[38;5;241;43m.\u001B[39;49m\u001B[43mtolist\u001B[49m\u001B[43m(\u001B[49m\u001B[43m)\u001B[49m\u001B[43m)\u001B[49m\u001B[38;5;241;43m.\u001B[39;49m\u001B[43munique\u001B[49m()\n",
      "\u001B[0;31mAttributeError\u001B[0m: 'numpy.ndarray' object has no attribute 'unique'"
     ]
    }
   ],
   "execution_count": 18
  },
  {
   "metadata": {},
   "cell_type": "code",
   "outputs": [],
   "execution_count": null,
   "source": ""
  }
 ],
 "metadata": {
  "kernelspec": {
   "display_name": "Python 3 (ipykernel)",
   "language": "python",
   "name": "python3"
  },
  "orig_nbformat": 4
 },
 "nbformat": 4,
 "nbformat_minor": 2
}
